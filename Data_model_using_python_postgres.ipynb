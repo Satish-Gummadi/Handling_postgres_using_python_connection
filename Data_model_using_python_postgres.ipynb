{
 "cells": [
  {
   "cell_type": "code",
   "execution_count": 1,
   "id": "4e15c80c",
   "metadata": {},
   "outputs": [
    {
     "name": "stdout",
     "output_type": "stream",
     "text": [
      "Requirement already satisfied: psycopg2 in c:\\users\\g\\appdata\\local\\programs\\python\\python310\\lib\\site-packages (2.9.6)\n"
     ]
    }
   ],
   "source": [
    "!pip install psycopg2"
   ]
  },
  {
   "cell_type": "code",
   "execution_count": 1,
   "id": "21a927e1",
   "metadata": {},
   "outputs": [],
   "source": [
    "import psycopg2"
   ]
  },
  {
   "cell_type": "code",
   "execution_count": null,
   "id": "2f55f013",
   "metadata": {},
   "outputs": [],
   "source": [
    "# # To close any existing connections\n",
    "# try:\n",
    "#     conn.close()\n",
    "# except psycopg2.Error as e:\n",
    "#     print(e)\n",
    "    \n",
    "# to create connection with our database\n",
    "pwd = input(\"Enter the password: \")\n",
    "\n",
    "try:\n",
    "    conn = psycopg2.connect(f\"host=localhost dbname=myfirstdb user=postgres password={pwd}\")\n",
    "except psycopg2.Error as e:\n",
    "    print(\"Error: Couldn't make connection to Postgres database\")\n",
    "    print(e)\n",
    "    \n",
    "# create cursor to exectue the queries onto database\n",
    "try:\n",
    "    cur = conn.cursor()\n",
    "except psycopg2.Error as e:\n",
    "    print(\"Error: couldn't get cursor to the Database\")\n",
    "    print(e)\n",
    "    \n",
    "# setting automatic commit to be true so that each action is committed without having to call conn.commit() after each command\n",
    "conn.set_session(autocommit = True)"
   ]
  },
  {
   "cell_type": "code",
   "execution_count": 4,
   "id": "0e0e28f2",
   "metadata": {},
   "outputs": [
    {
     "name": "stdout",
     "output_type": "stream",
     "text": [
      "database \"myfirstdb\" already exists\n",
      "\n"
     ]
    }
   ],
   "source": [
    "# creating our first database\n",
    "\n",
    "try:\n",
    "    cur.execute(\"create database myfirstdb\")\n",
    "except psycopg2.Error as e:\n",
    "    print(e)"
   ]
  },
  {
   "cell_type": "code",
   "execution_count": 5,
   "id": "bb17a095",
   "metadata": {},
   "outputs": [],
   "source": [
    "# creating table\n",
    "\n",
    "try:\n",
    "    cur.execute(\"CREATE TABLE IF NOT EXISTS students (student_id int, name varchar, \\\n",
    "                age int, gender varchar, subject varchar, marks int)\")\n",
    "except psycopg2.Error as e:\n",
    "    print('Error: Issue creating table')\n",
    "    print(e)"
   ]
  },
  {
   "cell_type": "code",
   "execution_count": 10,
   "id": "40e469e9",
   "metadata": {},
   "outputs": [],
   "source": [
    "# inserting data manually using INSERT statement\n",
    "\n",
    "try:\n",
    "    cur.execute(\"INSERT INTO students (student_id,name,age,gender,subject,marks) \\\n",
    "                VALUES(1,'Satish',26,'Male','Python',80),\\\n",
    "                    (2,'Vamsi',25,'Male','C#',85),\\\n",
    "                    (3,'Sai Nadh',25,'Male','Cyber Security',90)\")\n",
    "except psycopg2.Error as e:\n",
    "    print(\"Error Inserting rows\")\n",
    "    print(e)"
   ]
  },
  {
   "cell_type": "code",
   "execution_count": 11,
   "id": "d88424fd",
   "metadata": {},
   "outputs": [
    {
     "name": "stdout",
     "output_type": "stream",
     "text": [
      "(1, 'Satish', 26, 'Male', 'Python', 80)\n",
      "(2, 'Vamsi', 25, 'Male', 'C#', 85)\n",
      "(3, 'Sai Nadh', 25, 'Male', 'Cyber Security', 90)\n"
     ]
    }
   ],
   "source": [
    "# Validating our inserted data\n",
    "\n",
    "try:\n",
    "    cur.execute('SELECT * FROM students')\n",
    "except pyscopg2.Error as e:\n",
    "    print(\"Error executing SELECT *\")\n",
    "    print(e)\n",
    "    \n",
    "row = cur.fetchone()\n",
    "while row:\n",
    "    print(row)\n",
    "    row = cur.fetchone()"
   ]
  },
  {
   "cell_type": "code",
   "execution_count": null,
   "id": "4810763b",
   "metadata": {},
   "outputs": [],
   "source": [
    "# # for deleting elements from tables if required\n",
    "\n",
    "# try: \n",
    "#     cur.execute(\"DELETE FROM students WHERE student_id in (1,2,3)\")\n",
    "# except psycopg2.Error as e:\n",
    "#     print(\"Error in executing delete statement\")\n",
    "#     print(e)"
   ]
  },
  {
   "cell_type": "code",
   "execution_count": 12,
   "id": "e6f51718",
   "metadata": {},
   "outputs": [],
   "source": [
    "# And finally we close the connection once done \n",
    "\n",
    "cur.close()\n",
    "conn.close()"
   ]
  },
  {
   "cell_type": "code",
   "execution_count": 8,
   "id": "2e21adce",
   "metadata": {},
   "outputs": [],
   "source": []
  },
  {
   "cell_type": "code",
   "execution_count": null,
   "id": "bf7a268d",
   "metadata": {},
   "outputs": [],
   "source": []
  }
 ],
 "metadata": {
  "kernelspec": {
   "display_name": "Python 3 (ipykernel)",
   "language": "python",
   "name": "python3"
  },
  "language_info": {
   "codemirror_mode": {
    "name": "ipython",
    "version": 3
   },
   "file_extension": ".py",
   "mimetype": "text/x-python",
   "name": "python",
   "nbconvert_exporter": "python",
   "pygments_lexer": "ipython3",
   "version": "3.10.6"
  }
 },
 "nbformat": 4,
 "nbformat_minor": 5
}
